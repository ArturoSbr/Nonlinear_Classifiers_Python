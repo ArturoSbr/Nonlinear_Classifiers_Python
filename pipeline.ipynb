{
  "nbformat": 4,
  "nbformat_minor": 0,
  "metadata": {
    "colab": {
      "name": "pipeline-2.ipynb",
      "provenance": [],
      "collapsed_sections": [],
      "include_colab_link": true
    },
    "kernelspec": {
      "name": "python3",
      "display_name": "Python 3"
    },
    "language_info": {
      "name": "python"
    }
  },
  "cells": [
    {
      "cell_type": "markdown",
      "metadata": {
        "id": "view-in-github",
        "colab_type": "text"
      },
      "source": [
        "<a href=\"https://colab.research.google.com/github/ArturoSbr/Nonlinear_Classifiers_Python/blob/main/pipeline.ipynb\" target=\"_parent\"><img src=\"https://colab.research.google.com/assets/colab-badge.svg\" alt=\"Open In Colab\"/></a>"
      ]
    },
    {
      "cell_type": "markdown",
      "metadata": {
        "id": "CHa1bNPAtchg"
      },
      "source": [
        "Importar herramientas a ambiente local"
      ]
    },
    {
      "cell_type": "code",
      "metadata": {
        "id": "5PbDgiZJf6MD"
      },
      "source": [
        "# Importar librerías\n",
        "import numpy as np\n",
        "import pandas as pd\n",
        "\n",
        "# Cargar datos\n",
        "from sklearn.datasets import load_breast_cancer\n",
        "\n",
        "# Importar modelo\n",
        "from sklearn.ensemble import GradientBoostingClassifier\n",
        "\n",
        "# Importar función para partir datos\n",
        "from sklearn.model_selection import train_test_split\n",
        "\n",
        "# Importar algoritmo para reducir variables\n",
        "from sklearn.feature_selection import RFECV\n",
        "\n",
        "# Importar algoritmo para optimizar híper parámetros\n",
        "from sklearn.model_selection import GridSearchCV\n",
        "\n",
        "# Importar funciones de métricas\n",
        "from sklearn.metrics import roc_auc_score\n",
        "from sklearn.metrics import roc_curve\n",
        "\n",
        "# Librería de visualización\n",
        "from matplotlib import pyplot as plt"
      ],
      "execution_count": null,
      "outputs": []
    },
    {
      "cell_type": "markdown",
      "metadata": {
        "id": "mEXcn7cUwO4Y"
      },
      "source": [
        "Cargar datos"
      ]
    },
    {
      "cell_type": "code",
      "metadata": {
        "id": "ro1JglYUmU2R"
      },
      "source": [
        "# Declarar variables (X) independientes y variable dependiente (y)\n",
        "X = load_breast_cancer()['data']\n",
        "y = load_breast_cancer()['target']\n",
        "\n",
        "# Pasar X a pandas\n",
        "X = pd.DataFrame(X, columns=['col_' + str(i) for i in range(X.shape[1])])"
      ],
      "execution_count": null,
      "outputs": []
    },
    {
      "cell_type": "markdown",
      "metadata": {
        "id": "Y6cPEnmGyTfY"
      },
      "source": [
        "Modificar datos"
      ]
    },
    {
      "cell_type": "code",
      "metadata": {
        "id": "y8tn1IAyx09n"
      },
      "source": [
        "# Crear `col_new` como nueva columna\n",
        "X['col_new'] = X['col_0'].div(X['col_1'])\n",
        "# X['otro'] = X['col_2'] * X['col_11'] + 5"
      ],
      "execution_count": null,
      "outputs": []
    },
    {
      "cell_type": "markdown",
      "metadata": {
        "id": "76S1OyMnwRf5"
      },
      "source": [
        "Visualizar variables independientes"
      ]
    },
    {
      "cell_type": "code",
      "metadata": {
        "id": "G2o_GDRQpJvX"
      },
      "source": [
        "X.head()"
      ],
      "execution_count": null,
      "outputs": []
    },
    {
      "cell_type": "markdown",
      "metadata": {
        "id": "iHYbZJrBwVq7"
      },
      "source": [
        "Partir datos en sets de entrenamiento y validación"
      ]
    },
    {
      "cell_type": "code",
      "metadata": {
        "id": "RliApo3MpHaA"
      },
      "source": [
        "X_train, X_test, y_train, y_test = train_test_split(X, y, test_size=0.25, random_state=123)"
      ],
      "execution_count": null,
      "outputs": []
    },
    {
      "cell_type": "markdown",
      "metadata": {
        "id": "stJCuhZAwcA2"
      },
      "source": [
        "Declarar modelo y ajustarlo a los datos"
      ]
    },
    {
      "cell_type": "code",
      "metadata": {
        "id": "CkWbu_GTqzqP"
      },
      "source": [
        "# Declarar modelo en `clf`\n",
        "clf = GradientBoostingClassifier(loss='deviance', learning_rate=0.001,\n",
        "                                 n_estimators=300, max_depth=4,\n",
        "                                 max_features='sqrt', random_state=123)\n",
        "\n",
        "# Ajustar a los datos de entrenamiento\n",
        "clf.fit(X_train, y_train)"
      ],
      "execution_count": null,
      "outputs": []
    },
    {
      "cell_type": "markdown",
      "metadata": {
        "id": "z0ZJlYIFy_30"
      },
      "source": [
        "Predecir probabilidades"
      ]
    },
    {
      "cell_type": "code",
      "metadata": {
        "id": "kJ0vxf17rv-W"
      },
      "source": [
        "scores_train = clf.predict_proba(X_train)[:, 1]\n",
        "scores_test = clf.predict_proba(X_test)[:, 1]"
      ],
      "execution_count": null,
      "outputs": []
    },
    {
      "cell_type": "markdown",
      "metadata": {
        "id": "n27AoMa22X_p"
      },
      "source": [
        "Métricas de performance"
      ]
    },
    {
      "cell_type": "code",
      "metadata": {
        "id": "MPJ941kDrkyj"
      },
      "source": [
        "# En train\n",
        "roc_auc_score(y_true=y_train, y_score=scores_train)"
      ],
      "execution_count": null,
      "outputs": []
    },
    {
      "cell_type": "code",
      "metadata": {
        "id": "0x4gPdUMv7ZH"
      },
      "source": [
        "# En test\n",
        "roc_auc_score(y_true=y_test, y_score=scores_test)"
      ],
      "execution_count": null,
      "outputs": []
    },
    {
      "cell_type": "markdown",
      "metadata": {
        "id": "Fy1O01Ky2eGO"
      },
      "source": [
        "Visualizar ROC Curve"
      ]
    },
    {
      "cell_type": "code",
      "metadata": {
        "id": "831xXTwKywFO"
      },
      "source": [
        "# ROC Curve sobre training data y luego testing data\n",
        "fpr_train, tpr_train, thr_train = roc_curve(y_true=y_train, y_score=scores_train)\n",
        "fpr_test, tpr_test, thr_test = roc_curve(y_true=y_test, y_score=scores_test)\n",
        "\n",
        "# Plot\n",
        "plt.plot(fpr_train, tpr_train, color='blue', label='Train')\n",
        "plt.plot(fpr_test, tpr_test, color='green', label='Test')\n",
        "# Estilo\n",
        "plt.legend()\n",
        "plt.xlabel('FPR')\n",
        "plt.ylabel('TPR')\n",
        "plt.title('ROC Curve')\n",
        "plt.show()"
      ],
      "execution_count": null,
      "outputs": []
    },
    {
      "cell_type": "markdown",
      "metadata": {
        "id": "5pmX7HRr2qIm"
      },
      "source": [
        "Importancia de atributos"
      ]
    },
    {
      "cell_type": "code",
      "metadata": {
        "id": "uXzhX1x-zhny"
      },
      "source": [
        "# Crear pandas.DataFrame\n",
        "imp = pd.DataFrame({'variable':X.columns,\n",
        "                    'importancia':clf.feature_importances_})\n",
        "\n",
        "# Top 10\n",
        "imp.sort_values('importancia', ascending=False).head(10)"
      ],
      "execution_count": null,
      "outputs": []
    },
    {
      "cell_type": "markdown",
      "metadata": {
        "id": "nWpxOwQ2TsVS"
      },
      "source": [
        "Reducción de número de atributos"
      ]
    },
    {
      "cell_type": "code",
      "metadata": {
        "id": "_HLbwN1ITs8U"
      },
      "source": [
        "# Inicializar eliminación recursiva\n",
        "rfe = RFECV(estimator=clf, step=1, min_features_to_select=1, cv=5,\n",
        "            scoring='roc_auc', verbose=1, n_jobs=-1)\n",
        "\n",
        "# Ajustar objeto a datos\n",
        "rfe.fit(X_train, y_train)"
      ],
      "execution_count": null,
      "outputs": []
    },
    {
      "cell_type": "code",
      "metadata": {
        "id": "z4oNmlOQWyRN"
      },
      "source": [
        "# Visualizar selección\n",
        "print('El algoritmo conservó', rfe.support_.sum(), 'variables independientes.')\n",
        "sel = pd.DataFrame({'variable':X_train.columns, 'seleccionada':rfe.support_})\n",
        "sel"
      ],
      "execution_count": null,
      "outputs": []
    },
    {
      "cell_type": "markdown",
      "metadata": {
        "id": "9Tzvr7w-WrG3"
      },
      "source": [
        "Buscar mejores híper parámetros exhaustivamente\n",
        "\n",
        "Nota: Solo usaremos las variables finalistas\n",
        "\n"
      ]
    },
    {
      "cell_type": "code",
      "metadata": {
        "id": "KOgt4xuEWgw-"
      },
      "source": [
        "# Guardar atributos finalistas en `vars`\n",
        "vars = X_train.columns[rfe.support_]\n",
        "\n",
        "# Red de parámetros a probar\n",
        "grid = {'max_depth':[3, 4, 5],\n",
        "        'n_estimators':[100, 150, 200]}\n",
        "\n",
        "# Inicializar algoritmo de búsqueda\n",
        "search = GridSearchCV(estimator=clf, param_grid=grid, scoring='roc_auc', cv=5,\n",
        "                      verbose=1, n_jobs=-1)\n",
        "\n",
        "# Ajustar búsqueda a datos\n",
        "search.fit(X_train[vars], y_train)"
      ],
      "execution_count": null,
      "outputs": []
    },
    {
      "cell_type": "code",
      "metadata": {
        "id": "a5otFx1nXznr"
      },
      "source": [
        "# Guardar resultados en pandas\n",
        "res = pd.DataFrame(search.cv_results_)\n",
        "\n",
        "# Visualizar resultados\n",
        "res.sort_values('rank_test_score', ascending=False)"
      ],
      "execution_count": null,
      "outputs": []
    }
  ]
}